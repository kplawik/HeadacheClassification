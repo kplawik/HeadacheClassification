{
 "cells": [
  {
   "cell_type": "code",
   "execution_count": 59,
   "metadata": {},
   "outputs": [],
   "source": [
    "import pandas as pd\n",
    "import tensorflow as tf\n",
    "import numpy as np"
   ]
  },
  {
   "cell_type": "code",
   "execution_count": 60,
   "metadata": {},
   "outputs": [],
   "source": [
    "df = pd.read_csv('../data/migraine.csv')\n",
    "pd.set_option('display.float_format', '{:0.4f}'.format)"
   ]
  },
  {
   "cell_type": "code",
   "execution_count": 61,
   "metadata": {},
   "outputs": [
    {
     "data": {
      "text/plain": [
       "(400, 24)"
      ]
     },
     "execution_count": 61,
     "metadata": {},
     "output_type": "execute_result"
    }
   ],
   "source": [
    "df.shape"
   ]
  },
  {
   "cell_type": "code",
   "execution_count": 62,
   "metadata": {},
   "outputs": [
    {
     "name": "stdout",
     "output_type": "stream",
     "text": [
      "Type\n",
      "Basilar-type aura                 18\n",
      "Familial hemiplegic migraine      24\n",
      "Migraine without aura             60\n",
      "Other                             17\n",
      "Sporadic hemiplegic migraine      14\n",
      "Typical aura with migraine       247\n",
      "Typical aura without migraine     20\n",
      "dtype: int64\n"
     ]
    }
   ],
   "source": [
    "print(df.groupby('Type').size())"
   ]
  },
  {
   "cell_type": "code",
   "execution_count": 63,
   "metadata": {},
   "outputs": [],
   "source": [
    "X = df.iloc[:, :-1].astype(np.float32)\n",
    "y = df['Type']\n",
    "\n",
    "from sklearn.model_selection import train_test_split\n",
    "X_train, X_test, y_train, y_test = train_test_split(X, y, test_size=0.2)\n",
    "\n",
    "num_classes = 7"
   ]
  },
  {
   "cell_type": "code",
   "execution_count": 64,
   "metadata": {},
   "outputs": [
    {
     "name": "stdout",
     "output_type": "stream",
     "text": [
      "                               precision    recall  f1-score   support\n",
      "\n",
      "            Basilar-type aura       1.00      0.67      0.80         3\n",
      " Familial hemiplegic migraine       0.57      0.80      0.67         5\n",
      "        Migraine without aura       1.00      1.00      1.00         9\n",
      "                        Other       1.00      1.00      1.00         1\n",
      " Sporadic hemiplegic migraine       0.00      0.00      0.00         1\n",
      "   Typical aura with migraine       0.94      0.93      0.93        54\n",
      "Typical aura without migraine       0.86      0.86      0.86         7\n",
      "\n",
      "                     accuracy                           0.90        80\n",
      "                    macro avg       0.77      0.75      0.75        80\n",
      "                 weighted avg       0.91      0.90      0.90        80\n",
      "\n",
      "NN Accuracy=  0.9\n"
     ]
    }
   ],
   "source": [
    "from sklearn.neural_network import MLPClassifier\n",
    "mlp = MLPClassifier(hidden_layer_sizes=(10), max_iter=50000, alpha=0.0001,\n",
    "                     solver='adam',activation= 'logistic', random_state=25,\n",
    "                     tol=0.000000001)   #neural nets classifier\n",
    "\n",
    "mlp.fit(X_train, y_train)   #network training\n",
    "y_pred = mlp.predict(X_test)  #prediction\n",
    "\n",
    "from sklearn.metrics import classification_report\n",
    "print(classification_report(y_test, y_pred))  #print classifier report\n",
    "\n",
    "#Accuracy NN\n",
    "from sklearn.metrics import accuracy_score\n",
    "accuracy = accuracy_score (y_test, y_pred)\n",
    "print(\"NN Accuracy= \", accuracy)"
   ]
  },
  {
   "cell_type": "code",
   "execution_count": 65,
   "metadata": {},
   "outputs": [],
   "source": [
    "from sklearn.preprocessing import LabelEncoder\n",
    "\n",
    "label_encoder = LabelEncoder()\n",
    "y_train_encoded = label_encoder.fit_transform(y_train)\n",
    "y_test_encoded = label_encoder.fit_transform(y_test)\n",
    "\n",
    "# Konwersja etykiet na format one-hot encoding\n",
    "y_train_one_hot = tf.keras.utils.to_categorical(y_train_encoded, num_classes)\n",
    "y_test_one_hot = tf.keras.utils.to_categorical(y_test_encoded, num_classes)"
   ]
  },
  {
   "cell_type": "code",
   "execution_count": 66,
   "metadata": {},
   "outputs": [
    {
     "name": "stdout",
     "output_type": "stream",
     "text": [
      "[3 5 5 2 2 2 5 6 5 5 6 5 5 6 1 5 5 5 3 5 5 5 5 2 2 2 5 5 2 5 5 3 0 5 1 5 5\n",
      " 5 5 5 5 4 2 5 5 5 5 3 5 1 2 5 5 1 2 2 5 2 2 5 5 5 5 5 5 5 2 5 5 4 5 4 5 5\n",
      " 1 5 5 0 5 5 5 5 3 5 5 5 1 5 5 5 5 1 5 5 3 5 5 6 5 0 5 5 5 5 5 2 2 5 4 2 6\n",
      " 6 2 2 5 5 2 5 2 3 1 1 2 4 3 5 0 2 5 5 2 5 5 0 3 5 3 5 5 5 5 0 5 0 5 3 5 5\n",
      " 5 5 5 5 5 5 2 5 5 6 2 2 5 5 5 5 5 5 5 5 5 3 5 5 5 5 2 0 5 5 2 5 5 5 6 1 1\n",
      " 5 1 5 1 5 4 5 1 5 5 2 5 2 4 2 5 4 2 5 1 5 5 5 5 5 5 5 1 0 3 5 5 5 5 5 5 5\n",
      " 2 5 3 5 5 5 2 2 5 5 5 0 5 1 5 2 2 2 5 5 5 0 5 5 5 0 1 3 2 1 4 5 5 5 5 5 5\n",
      " 0 2 2 4 5 5 5 5 5 5 5 6 5 5 5 0 5 5 6 5 5 2 5 5 2 5 4 2 5 5 5 5 5 6 2 5 5\n",
      " 4 5 6 5 4 3 2 5 5 2 5 5 5 6 5 5 5 5 0 5 2 2 2 5]\n",
      "[[0. 0. 0. ... 0. 0. 0.]\n",
      " [0. 0. 0. ... 0. 1. 0.]\n",
      " [0. 0. 0. ... 0. 1. 0.]\n",
      " ...\n",
      " [0. 0. 1. ... 0. 0. 0.]\n",
      " [0. 0. 1. ... 0. 0. 0.]\n",
      " [0. 0. 0. ... 0. 1. 0.]]\n"
     ]
    }
   ],
   "source": [
    "print(y_train_encoded)\n",
    "print(y_train_one_hot)"
   ]
  },
  {
   "cell_type": "code",
   "execution_count": 67,
   "metadata": {},
   "outputs": [],
   "source": [
    "model=tf.keras.models.Sequential()\n",
    "model.add(tf.keras.layers.Dense(64, activation='relu'))  # Warstwa ukryta z 64 neuronami i funkcją aktywacji ReLU\n",
    "model.add(tf.keras.layers.Dense(32, activation='relu'))  # Kolejna warstwa ukryta z 32 neuronami i funkcją aktywacji ReLU\n",
    "model.add(tf.keras.layers.Dense(num_classes, activation='softmax'))  # Warstwa wyjściowa z funkcją aktywacji softmax\n",
    "model.build(input_shape=23)\n",
    "model.compile(optimizer='Adam',loss='categorical_crossentropy',metrics=['accuracy'])"
   ]
  },
  {
   "cell_type": "code",
   "execution_count": 68,
   "metadata": {},
   "outputs": [
    {
     "name": "stdout",
     "output_type": "stream",
     "text": [
      "Epoch 1/50\n"
     ]
    },
    {
     "name": "stdout",
     "output_type": "stream",
     "text": [
      "\u001b[1m8/8\u001b[0m \u001b[32m━━━━━━━━━━━━━━━━━━━━\u001b[0m\u001b[37m\u001b[0m \u001b[1m1s\u001b[0m 13ms/step - accuracy: 0.1570 - loss: 2.9724 - val_accuracy: 0.5000 - val_loss: 2.1962\n",
      "Epoch 2/50\n",
      "\u001b[1m8/8\u001b[0m \u001b[32m━━━━━━━━━━━━━━━━━━━━\u001b[0m\u001b[37m\u001b[0m \u001b[1m0s\u001b[0m 2ms/step - accuracy: 0.4158 - loss: 2.0562 - val_accuracy: 0.5781 - val_loss: 1.8930\n",
      "Epoch 3/50\n",
      "\u001b[1m8/8\u001b[0m \u001b[32m━━━━━━━━━━━━━━━━━━━━\u001b[0m\u001b[37m\u001b[0m \u001b[1m0s\u001b[0m 2ms/step - accuracy: 0.5567 - loss: 1.8418 - val_accuracy: 0.6250 - val_loss: 1.6445\n",
      "Epoch 4/50\n",
      "\u001b[1m8/8\u001b[0m \u001b[32m━━━━━━━━━━━━━━━━━━━━\u001b[0m\u001b[37m\u001b[0m \u001b[1m0s\u001b[0m 2ms/step - accuracy: 0.5727 - loss: 1.5896 - val_accuracy: 0.6406 - val_loss: 1.4820\n",
      "Epoch 5/50\n",
      "\u001b[1m8/8\u001b[0m \u001b[32m━━━━━━━━━━━━━━━━━━━━\u001b[0m\u001b[37m\u001b[0m \u001b[1m0s\u001b[0m 2ms/step - accuracy: 0.6043 - loss: 1.3602 - val_accuracy: 0.6250 - val_loss: 1.3505\n",
      "Epoch 6/50\n",
      "\u001b[1m8/8\u001b[0m \u001b[32m━━━━━━━━━━━━━━━━━━━━\u001b[0m\u001b[37m\u001b[0m \u001b[1m0s\u001b[0m 2ms/step - accuracy: 0.6018 - loss: 1.3077 - val_accuracy: 0.6250 - val_loss: 1.2735\n",
      "Epoch 7/50\n",
      "\u001b[1m8/8\u001b[0m \u001b[32m━━━━━━━━━━━━━━━━━━━━\u001b[0m\u001b[37m\u001b[0m \u001b[1m0s\u001b[0m 2ms/step - accuracy: 0.5837 - loss: 1.2855 - val_accuracy: 0.6250 - val_loss: 1.2027\n",
      "Epoch 8/50\n",
      "\u001b[1m8/8\u001b[0m \u001b[32m━━━━━━━━━━━━━━━━━━━━\u001b[0m\u001b[37m\u001b[0m \u001b[1m0s\u001b[0m 2ms/step - accuracy: 0.6603 - loss: 1.1131 - val_accuracy: 0.6406 - val_loss: 1.1617\n",
      "Epoch 9/50\n",
      "\u001b[1m8/8\u001b[0m \u001b[32m━━━━━━━━━━━━━━━━━━━━\u001b[0m\u001b[37m\u001b[0m \u001b[1m0s\u001b[0m 2ms/step - accuracy: 0.6158 - loss: 1.1821 - val_accuracy: 0.6719 - val_loss: 1.1578\n",
      "Epoch 10/50\n",
      "\u001b[1m8/8\u001b[0m \u001b[32m━━━━━━━━━━━━━━━━━━━━\u001b[0m\u001b[37m\u001b[0m \u001b[1m0s\u001b[0m 2ms/step - accuracy: 0.6488 - loss: 1.0580 - val_accuracy: 0.6562 - val_loss: 1.1269\n",
      "Epoch 11/50\n",
      "\u001b[1m8/8\u001b[0m \u001b[32m━━━━━━━━━━━━━━━━━━━━\u001b[0m\u001b[37m\u001b[0m \u001b[1m0s\u001b[0m 2ms/step - accuracy: 0.6577 - loss: 1.0370 - val_accuracy: 0.7188 - val_loss: 1.1050\n",
      "Epoch 12/50\n",
      "\u001b[1m8/8\u001b[0m \u001b[32m━━━━━━━━━━━━━━━━━━━━\u001b[0m\u001b[37m\u001b[0m \u001b[1m0s\u001b[0m 2ms/step - accuracy: 0.6390 - loss: 1.1026 - val_accuracy: 0.7188 - val_loss: 1.0876\n",
      "Epoch 13/50\n",
      "\u001b[1m8/8\u001b[0m \u001b[32m━━━━━━━━━━━━━━━━━━━━\u001b[0m\u001b[37m\u001b[0m \u001b[1m0s\u001b[0m 2ms/step - accuracy: 0.6627 - loss: 1.0702 - val_accuracy: 0.7344 - val_loss: 1.0640\n",
      "Epoch 14/50\n",
      "\u001b[1m8/8\u001b[0m \u001b[32m━━━━━━━━━━━━━━━━━━━━\u001b[0m\u001b[37m\u001b[0m \u001b[1m0s\u001b[0m 2ms/step - accuracy: 0.6695 - loss: 1.0377 - val_accuracy: 0.7656 - val_loss: 1.0498\n",
      "Epoch 15/50\n",
      "\u001b[1m8/8\u001b[0m \u001b[32m━━━━━━━━━━━━━━━━━━━━\u001b[0m\u001b[37m\u001b[0m \u001b[1m0s\u001b[0m 2ms/step - accuracy: 0.7455 - loss: 0.9668 - val_accuracy: 0.7656 - val_loss: 1.0264\n",
      "Epoch 16/50\n",
      "\u001b[1m8/8\u001b[0m \u001b[32m━━━━━━━━━━━━━━━━━━━━\u001b[0m\u001b[37m\u001b[0m \u001b[1m0s\u001b[0m 2ms/step - accuracy: 0.7065 - loss: 0.9534 - val_accuracy: 0.7812 - val_loss: 1.0069\n",
      "Epoch 17/50\n",
      "\u001b[1m8/8\u001b[0m \u001b[32m━━━━━━━━━━━━━━━━━━━━\u001b[0m\u001b[37m\u001b[0m \u001b[1m0s\u001b[0m 2ms/step - accuracy: 0.7529 - loss: 0.9137 - val_accuracy: 0.7812 - val_loss: 0.9942\n",
      "Epoch 18/50\n",
      "\u001b[1m8/8\u001b[0m \u001b[32m━━━━━━━━━━━━━━━━━━━━\u001b[0m\u001b[37m\u001b[0m \u001b[1m0s\u001b[0m 2ms/step - accuracy: 0.7210 - loss: 0.9595 - val_accuracy: 0.7656 - val_loss: 0.9791\n",
      "Epoch 19/50\n",
      "\u001b[1m8/8\u001b[0m \u001b[32m━━━━━━━━━━━━━━━━━━━━\u001b[0m\u001b[37m\u001b[0m \u001b[1m0s\u001b[0m 2ms/step - accuracy: 0.7409 - loss: 0.9609 - val_accuracy: 0.7812 - val_loss: 0.9575\n",
      "Epoch 20/50\n",
      "\u001b[1m8/8\u001b[0m \u001b[32m━━━━━━━━━━━━━━━━━━━━\u001b[0m\u001b[37m\u001b[0m \u001b[1m0s\u001b[0m 2ms/step - accuracy: 0.7509 - loss: 0.8528 - val_accuracy: 0.7812 - val_loss: 0.9349\n",
      "Epoch 21/50\n",
      "\u001b[1m8/8\u001b[0m \u001b[32m━━━━━━━━━━━━━━━━━━━━\u001b[0m\u001b[37m\u001b[0m \u001b[1m0s\u001b[0m 2ms/step - accuracy: 0.7152 - loss: 0.9178 - val_accuracy: 0.7812 - val_loss: 0.9291\n",
      "Epoch 22/50\n",
      "\u001b[1m8/8\u001b[0m \u001b[32m━━━━━━━━━━━━━━━━━━━━\u001b[0m\u001b[37m\u001b[0m \u001b[1m0s\u001b[0m 2ms/step - accuracy: 0.7519 - loss: 0.8825 - val_accuracy: 0.7812 - val_loss: 0.9001\n",
      "Epoch 23/50\n",
      "\u001b[1m8/8\u001b[0m \u001b[32m━━━━━━━━━━━━━━━━━━━━\u001b[0m\u001b[37m\u001b[0m \u001b[1m0s\u001b[0m 2ms/step - accuracy: 0.7046 - loss: 0.9149 - val_accuracy: 0.7969 - val_loss: 0.8854\n",
      "Epoch 24/50\n",
      "\u001b[1m8/8\u001b[0m \u001b[32m━━━━━━━━━━━━━━━━━━━━\u001b[0m\u001b[37m\u001b[0m \u001b[1m0s\u001b[0m 2ms/step - accuracy: 0.7786 - loss: 0.7911 - val_accuracy: 0.7969 - val_loss: 0.8694\n",
      "Epoch 25/50\n",
      "\u001b[1m8/8\u001b[0m \u001b[32m━━━━━━━━━━━━━━━━━━━━\u001b[0m\u001b[37m\u001b[0m \u001b[1m0s\u001b[0m 2ms/step - accuracy: 0.7434 - loss: 0.8577 - val_accuracy: 0.7656 - val_loss: 0.8552\n",
      "Epoch 26/50\n",
      "\u001b[1m8/8\u001b[0m \u001b[32m━━━━━━━━━━━━━━━━━━━━\u001b[0m\u001b[37m\u001b[0m \u001b[1m0s\u001b[0m 2ms/step - accuracy: 0.7268 - loss: 0.8175 - val_accuracy: 0.7969 - val_loss: 0.8458\n",
      "Epoch 27/50\n",
      "\u001b[1m8/8\u001b[0m \u001b[32m━━━━━━━━━━━━━━━━━━━━\u001b[0m\u001b[37m\u001b[0m \u001b[1m0s\u001b[0m 2ms/step - accuracy: 0.7538 - loss: 0.7923 - val_accuracy: 0.7969 - val_loss: 0.8281\n",
      "Epoch 28/50\n",
      "\u001b[1m8/8\u001b[0m \u001b[32m━━━━━━━━━━━━━━━━━━━━\u001b[0m\u001b[37m\u001b[0m \u001b[1m0s\u001b[0m 2ms/step - accuracy: 0.7775 - loss: 0.7922 - val_accuracy: 0.7812 - val_loss: 0.7987\n",
      "Epoch 29/50\n",
      "\u001b[1m8/8\u001b[0m \u001b[32m━━━━━━━━━━━━━━━━━━━━\u001b[0m\u001b[37m\u001b[0m \u001b[1m0s\u001b[0m 2ms/step - accuracy: 0.7518 - loss: 0.7685 - val_accuracy: 0.7969 - val_loss: 0.7836\n",
      "Epoch 30/50\n",
      "\u001b[1m8/8\u001b[0m \u001b[32m━━━━━━━━━━━━━━━━━━━━\u001b[0m\u001b[37m\u001b[0m \u001b[1m0s\u001b[0m 2ms/step - accuracy: 0.7895 - loss: 0.7216 - val_accuracy: 0.7969 - val_loss: 0.7704\n",
      "Epoch 31/50\n",
      "\u001b[1m8/8\u001b[0m \u001b[32m━━━━━━━━━━━━━━━━━━━━\u001b[0m\u001b[37m\u001b[0m \u001b[1m0s\u001b[0m 2ms/step - accuracy: 0.7801 - loss: 0.7078 - val_accuracy: 0.7969 - val_loss: 0.7879\n",
      "Epoch 32/50\n",
      "\u001b[1m8/8\u001b[0m \u001b[32m━━━━━━━━━━━━━━━━━━━━\u001b[0m\u001b[37m\u001b[0m \u001b[1m0s\u001b[0m 2ms/step - accuracy: 0.7457 - loss: 0.7887 - val_accuracy: 0.7812 - val_loss: 0.7361\n",
      "Epoch 33/50\n",
      "\u001b[1m8/8\u001b[0m \u001b[32m━━━━━━━━━━━━━━━━━━━━\u001b[0m\u001b[37m\u001b[0m \u001b[1m0s\u001b[0m 2ms/step - accuracy: 0.7285 - loss: 0.7825 - val_accuracy: 0.7969 - val_loss: 0.7190\n",
      "Epoch 34/50\n",
      "\u001b[1m8/8\u001b[0m \u001b[32m━━━━━━━━━━━━━━━━━━━━\u001b[0m\u001b[37m\u001b[0m \u001b[1m0s\u001b[0m 2ms/step - accuracy: 0.7757 - loss: 0.7461 - val_accuracy: 0.7969 - val_loss: 0.7129\n",
      "Epoch 35/50\n",
      "\u001b[1m8/8\u001b[0m \u001b[32m━━━━━━━━━━━━━━━━━━━━\u001b[0m\u001b[37m\u001b[0m \u001b[1m0s\u001b[0m 3ms/step - accuracy: 0.7858 - loss: 0.7111 - val_accuracy: 0.7969 - val_loss: 0.6946\n",
      "Epoch 36/50\n",
      "\u001b[1m8/8\u001b[0m \u001b[32m━━━━━━━━━━━━━━━━━━━━\u001b[0m\u001b[37m\u001b[0m \u001b[1m0s\u001b[0m 2ms/step - accuracy: 0.7684 - loss: 0.7347 - val_accuracy: 0.7969 - val_loss: 0.6828\n",
      "Epoch 37/50\n",
      "\u001b[1m8/8\u001b[0m \u001b[32m━━━━━━━━━━━━━━━━━━━━\u001b[0m\u001b[37m\u001b[0m \u001b[1m0s\u001b[0m 2ms/step - accuracy: 0.7930 - loss: 0.6673 - val_accuracy: 0.7969 - val_loss: 0.6734\n",
      "Epoch 38/50\n",
      "\u001b[1m8/8\u001b[0m \u001b[32m━━━━━━━━━━━━━━━━━━━━\u001b[0m\u001b[37m\u001b[0m \u001b[1m0s\u001b[0m 2ms/step - accuracy: 0.8007 - loss: 0.6825 - val_accuracy: 0.7969 - val_loss: 0.6548\n",
      "Epoch 39/50\n",
      "\u001b[1m8/8\u001b[0m \u001b[32m━━━━━━━━━━━━━━━━━━━━\u001b[0m\u001b[37m\u001b[0m \u001b[1m0s\u001b[0m 2ms/step - accuracy: 0.7706 - loss: 0.6796 - val_accuracy: 0.7969 - val_loss: 0.6337\n",
      "Epoch 40/50\n",
      "\u001b[1m8/8\u001b[0m \u001b[32m━━━━━━━━━━━━━━━━━━━━\u001b[0m\u001b[37m\u001b[0m \u001b[1m0s\u001b[0m 2ms/step - accuracy: 0.7863 - loss: 0.6602 - val_accuracy: 0.7969 - val_loss: 0.6403\n",
      "Epoch 41/50\n",
      "\u001b[1m8/8\u001b[0m \u001b[32m━━━━━━━━━━━━━━━━━━━━\u001b[0m\u001b[37m\u001b[0m \u001b[1m0s\u001b[0m 2ms/step - accuracy: 0.7893 - loss: 0.6369 - val_accuracy: 0.7969 - val_loss: 0.6144\n",
      "Epoch 42/50\n",
      "\u001b[1m8/8\u001b[0m \u001b[32m━━━━━━━━━━━━━━━━━━━━\u001b[0m\u001b[37m\u001b[0m \u001b[1m0s\u001b[0m 2ms/step - accuracy: 0.7811 - loss: 0.6513 - val_accuracy: 0.8125 - val_loss: 0.5949\n",
      "Epoch 43/50\n",
      "\u001b[1m8/8\u001b[0m \u001b[32m━━━━━━━━━━━━━━━━━━━━\u001b[0m\u001b[37m\u001b[0m \u001b[1m0s\u001b[0m 2ms/step - accuracy: 0.8037 - loss: 0.6283 - val_accuracy: 0.8125 - val_loss: 0.6086\n",
      "Epoch 44/50\n",
      "\u001b[1m8/8\u001b[0m \u001b[32m━━━━━━━━━━━━━━━━━━━━\u001b[0m\u001b[37m\u001b[0m \u001b[1m0s\u001b[0m 2ms/step - accuracy: 0.8276 - loss: 0.5777 - val_accuracy: 0.8125 - val_loss: 0.5792\n",
      "Epoch 45/50\n",
      "\u001b[1m8/8\u001b[0m \u001b[32m━━━━━━━━━━━━━━━━━━━━\u001b[0m\u001b[37m\u001b[0m \u001b[1m0s\u001b[0m 3ms/step - accuracy: 0.8312 - loss: 0.5795 - val_accuracy: 0.8438 - val_loss: 0.5645\n",
      "Epoch 46/50\n",
      "\u001b[1m8/8\u001b[0m \u001b[32m━━━━━━━━━━━━━━━━━━━━\u001b[0m\u001b[37m\u001b[0m \u001b[1m0s\u001b[0m 2ms/step - accuracy: 0.8233 - loss: 0.6130 - val_accuracy: 0.8438 - val_loss: 0.5552\n",
      "Epoch 47/50\n",
      "\u001b[1m8/8\u001b[0m \u001b[32m━━━━━━━━━━━━━━━━━━━━\u001b[0m\u001b[37m\u001b[0m \u001b[1m0s\u001b[0m 2ms/step - accuracy: 0.8011 - loss: 0.5755 - val_accuracy: 0.8438 - val_loss: 0.5440\n",
      "Epoch 48/50\n",
      "\u001b[1m8/8\u001b[0m \u001b[32m━━━━━━━━━━━━━━━━━━━━\u001b[0m\u001b[37m\u001b[0m \u001b[1m0s\u001b[0m 2ms/step - accuracy: 0.7757 - loss: 0.6390 - val_accuracy: 0.8438 - val_loss: 0.5461\n",
      "Epoch 49/50\n",
      "\u001b[1m8/8\u001b[0m \u001b[32m━━━━━━━━━━━━━━━━━━━━\u001b[0m\u001b[37m\u001b[0m \u001b[1m0s\u001b[0m 2ms/step - accuracy: 0.8603 - loss: 0.5164 - val_accuracy: 0.8438 - val_loss: 0.5308\n",
      "Epoch 50/50\n",
      "\u001b[1m8/8\u001b[0m \u001b[32m━━━━━━━━━━━━━━━━━━━━\u001b[0m\u001b[37m\u001b[0m \u001b[1m0s\u001b[0m 2ms/step - accuracy: 0.8361 - loss: 0.5575 - val_accuracy: 0.8438 - val_loss: 0.5116\n"
     ]
    }
   ],
   "source": [
    "history = model.fit(X_train,y_train_one_hot,epochs=50,verbose=1,validation_split=0.2)\n",
    "tf.keras.models.save_model(model,'../models/softmax.keras')"
   ]
  },
  {
   "cell_type": "code",
   "execution_count": 69,
   "metadata": {},
   "outputs": [
    {
     "data": {
      "image/png": "[encoded data removed]",
      "text/plain": [
       "<Figure size 640x480 with 1 Axes>"
      ]
     },
     "metadata": {},
     "output_type": "display_data"
    }
   ],
   "source": [
    "import matplotlib.pyplot as plt\n",
    "\n",
    "plt.plot(history.history['loss'])\n",
    "plt.plot(history.history['val_loss'])\n",
    "plt.legend(['loss','validation loss'])\n",
    "plt.show()"
   ]
  },
  {
   "cell_type": "code",
   "execution_count": 70,
   "metadata": {},
   "outputs": [
    {
     "name": "stdout",
     "output_type": "stream",
     "text": [
      "\u001b[1m3/3\u001b[0m \u001b[32m━━━━━━━━━━━━━━━━━━━━\u001b[0m\u001b[37m\u001b[0m \u001b[1m0s\u001b[0m 3ms/step - accuracy: 0.8117 - loss: 0.5982  \n",
      "Loss: 0.5116508603096008, Accuracy: 0.8500000238418579\n"
     ]
    }
   ],
   "source": [
    "model=tf.keras.models.load_model('../models/softmax.keras')\n",
    "loss, accuracy = model.evaluate(X_test, y_test_one_hot)\n",
    "print(f'Loss: {loss}, Accuracy: {accuracy}')"
   ]
  },
  {
   "cell_type": "code",
   "execution_count": 71,
   "metadata": {},
   "outputs": [
    {
     "name": "stdout",
     "output_type": "stream",
     "text": [
      "WARNING:tensorflow:5 out of the last 11 calls to <function TensorFlowTrainer.make_predict_function.<locals>.one_step_on_data_distributed at 0x140aeadc0> triggered tf.function retracing. Tracing is expensive and the excessive number of tracings could be due to (1) creating @tf.function repeatedly in a loop, (2) passing tensors with different shapes, (3) passing Python objects instead of tensors. For (1), please define your @tf.function outside of the loop. For (2), @tf.function has reduce_retracing=True option that can avoid unnecessary retracing. For (3), please refer to https://www.tensorflow.org/guide/function#controlling_retracing and https://www.tensorflow.org/api_docs/python/tf/function for  more details.\n",
      "\u001b[1m1/1\u001b[0m \u001b[32m━━━━━━━━━━━━━━━━━━━━\u001b[0m\u001b[37m\u001b[0m \u001b[1m0s\u001b[0m 34ms/step\n",
      "Predicted softmax probabilities: [[0.03105942 0.02384411 0.03516261 0.02781023 0.03136728 0.8457423\n",
      "  0.00501405]]\n",
      "Predicted class: [5]\n",
      "\n",
      "\n",
      "Class: Basilar-type aura, Probability: 0.0311\n",
      "Class: Familial hemiplegic migraine, Probability: 0.0238\n",
      "Class: Migraine without aura, Probability: 0.0352\n",
      "Class: Other, Probability: 0.0278\n",
      "Class: Sporadic hemiplegic migraine, Probability: 0.0314\n",
      "Class: Typical aura with migraine, Probability: 0.8457\n",
      "Class: Typical aura without migraine, Probability: 0.0050\n",
      "\n",
      "                            Type  Probabilities\n",
      "5     Typical aura with migraine         0.8457\n",
      "2          Migraine without aura         0.0352\n",
      "4   Sporadic hemiplegic migraine         0.0314\n",
      "0              Basilar-type aura         0.0311\n",
      "3                          Other         0.0278\n",
      "1   Familial hemiplegic migraine         0.0238\n",
      "6  Typical aura without migraine         0.0050\n"
     ]
    }
   ],
   "source": [
    "from sklearn.preprocessing import LabelEncoder, StandardScaler\n",
    "\n",
    "sample_features = np.array([27,2,1,1,1,3,1,0,1,1,1,0,0,0,0,0,0,0,0,0,0,0,0]).reshape(1, -1)\n",
    "\n",
    "prediction = model.predict(sample_features)\n",
    "\n",
    "# Wartości softmax dla każdej klasy\n",
    "print(\"Predicted softmax probabilities:\", prediction)\n",
    "\n",
    "# Przewidywana klasa\n",
    "predicted_class = np.argmax(prediction, axis=1)\n",
    "print(\"Predicted class:\", predicted_class)\n",
    "print('')\n",
    "\n",
    "decoded_classes = label_encoder.inverse_transform(np.arange(len(label_encoder.classes_)))\n",
    "\n",
    "print('')\n",
    "rows = []\n",
    "for class_name, prob in zip(decoded_classes, prediction[0]):\n",
    "    print(f\"Class: {class_name}, Probability: {prob:.4f}\")\n",
    "\n",
    "    row = {'Type': class_name, 'Probabilities': prob}\n",
    "    rows.append(row)\n",
    "print('')\n",
    "predicted_classes = pd.DataFrame(rows)\n",
    "print(predicted_classes.sort_values('Probabilities', ascending=False))"
   ]
  },
  {
   "cell_type": "code",
   "execution_count": null,
   "metadata": {},
   "outputs": [],
   "source": []
  }
 ],
 "metadata": {
  "kernelspec": {
   "display_name": "visualization",
   "language": "python",
   "name": "python3"
  },
  "language_info": {
   "codemirror_mode": {
    "name": "ipython",
    "version": 3
   },
   "file_extension": ".py",
   "mimetype": "text/x-python",
   "name": "python",
   "nbconvert_exporter": "python",
   "pygments_lexer": "ipython3",
   "version": "3.9.18"
  }
 },
 "nbformat": 4,
 "nbformat_minor": 2
}
